{
  "nbformat": 4,
  "nbformat_minor": 0,
  "metadata": {
    "colab": {
      "provenance": [],
      "toc_visible": true,
      "include_colab_link": true
    },
    "kernelspec": {
      "name": "python3",
      "display_name": "Python 3"
    },
    "language_info": {
      "name": "python"
    }
  },
  "cells": [
    {
      "cell_type": "markdown",
      "metadata": {
        "id": "view-in-github",
        "colab_type": "text"
      },
      "source": [
        "<a href=\"https://colab.research.google.com/github/BONHEMIA/CloudAppSena/blob/master/ETL_Tutorias.ipynb\" target=\"_parent\"><img src=\"https://colab.research.google.com/assets/colab-badge.svg\" alt=\"Open In Colab\"/></a>"
      ]
    },
    {
      "cell_type": "code",
      "source": [
        "# Montar Google Drive en Colab para acceder a los archivos.\n",
        "from google.colab import drive\n",
        "drive.mount('/content/drive')"
      ],
      "metadata": {
        "id": "nT4hjZ16jQsx"
      },
      "execution_count": null,
      "outputs": []
    },
    {
      "cell_type": "code",
      "source": [
        "# Importar las bibliotecas necesarias.\n",
        "import pandas as pd\n",
        "import seaborn as sns\n",
        "import matplotlib.pyplot as plt\n",
        "import numpy as np\n",
        "import datetime\n",
        "import re"
      ],
      "metadata": {
        "id": "YcVGK-WjjUyw"
      },
      "execution_count": null,
      "outputs": []
    },
    {
      "cell_type": "code",
      "source": [
        "# Cargar el archivo CSV desde Google Drive.\n",
        "tuto = pd.read_csv(\"/content/drive/MyDrive/Colab Notebooks/TESIS/StartTutorials.csv\")"
      ],
      "metadata": {
        "id": "ldQKzeINjYCd"
      },
      "execution_count": null,
      "outputs": []
    },
    {
      "cell_type": "code",
      "source": [
        "# Carga la cantidad total de las filas y columnas.\n",
        "tuto.shape"
      ],
      "metadata": {
        "id": "CUcsuXV4jaxg"
      },
      "execution_count": null,
      "outputs": []
    },
    {
      "cell_type": "code",
      "source": [
        "# Identificar y mostrar el número de filas duplicadas\n",
        "tuto[tuto.duplicated()].shape"
      ],
      "metadata": {
        "id": "wmvpjK7HjbQg"
      },
      "execution_count": null,
      "outputs": []
    },
    {
      "cell_type": "code",
      "source": [
        "# Eliminar filas duplicadas y mostrar la nueva forma del DataFrame\n",
        "tuto = tuto.drop_duplicates()\n",
        "tuto.shape"
      ],
      "metadata": {
        "id": "Hxsi0w-ajgQ-"
      },
      "execution_count": null,
      "outputs": []
    },
    {
      "cell_type": "code",
      "source": [
        "# Mostrar la cantidad de valores nulos por columna\n",
        "tuto.isnull().sum()"
      ],
      "metadata": {
        "id": "eRAllN-MjiSw"
      },
      "execution_count": null,
      "outputs": []
    },
    {
      "cell_type": "code",
      "source": [
        "# Mostrar información general sobre el DataFrame\n",
        "tuto.info()"
      ],
      "metadata": {
        "id": "E5gYXXbyjk9I"
      },
      "execution_count": null,
      "outputs": []
    },
    {
      "cell_type": "code",
      "source": [
        "# Eliminar columnas  del DataFrame\n",
        "tuto = tuto.drop(columns=['Actividad realizada', 'Tipo de tutoría', 'Vinculacion', 'Calificación estudiante'])"
      ],
      "metadata": {
        "id": "LJ7ZW_8ijnLM"
      },
      "execution_count": null,
      "outputs": []
    },
    {
      "cell_type": "code",
      "source": [
        "# Función para separar números y letras con un espacio\n",
        "def separar_numeros_letras(lugar):\n",
        "    return ' '.join(filter(None, re.split(r'(\\d+)', lugar)))\n",
        "\n",
        "# Aplicar la función a la columna 'Lugar'\n",
        "tuto['Lugar'] = tuto['Lugar'].apply(separar_numeros_letras)\n",
        "\n",
        "# Muestra los resultados\n",
        "print(tuto['Lugar'])"
      ],
      "metadata": {
        "id": "waw2FHo1jp2w"
      },
      "execution_count": null,
      "outputs": []
    },
    {
      "cell_type": "code",
      "source": [
        "# Asegúrate de que la columna 'lugar' esté en minúsculas para facilitar la comparación\n",
        "tuto['Lugar'] = tuto['Lugar'].str.lower()\n",
        "\n",
        "# Función para clasificar los valores\n",
        "def clasificar_lugar(lugar):\n",
        "    # Busca números en el lugar\n",
        "    match = re.search(r'\\b(\\d+)\\b', lugar)\n",
        "    if match:\n",
        "        numero = int(match.group(1))\n",
        "        if 0 <= numero <= 399:\n",
        "            return 'salón'\n",
        "        elif 400 <= numero <= 499:\n",
        "            return 'laboratorio'\n",
        "        elif 500 <= numero <= 599:\n",
        "            return 'oficina'\n",
        "\n",
        "    # Otras clasificaciones por texto\n",
        "    if 'salón' in lugar or 'salon' in lugar:\n",
        "        return 'Salón'\n",
        "    elif 'laboratorio' in lugar or 'laboratorios' in lugar:\n",
        "        return 'Laboratorios'\n",
        "    elif 'pecera' in lugar:\n",
        "        return 'Pecera'\n",
        "    elif 'zoom' in lugar or 'teams' in lugar or 'moodle' in lugar or 'link' in lugar or 'meet' in lugar or 'virtual' in lugar:\n",
        "        return 'Mediación tecnológica'\n",
        "    elif 'tutoria' in lugar or 'tutorías' in lugar or 'turia' in lugar or 'tutoría' in lugar:\n",
        "        return 'sala de tutorías'\n",
        "    elif 'seminario' in lugar or 'biblioteca' in lugar:\n",
        "        return 'Biblioteca'\n",
        "    elif 'consultorio jurídico' in lugar:\n",
        "        return 'Consultorio jurídico'\n",
        "    elif 'profesores' in lugar:\n",
        "        return 'Sala de Profesores'\n",
        "    else:\n",
        "        return 'Otro'\n",
        "\n",
        "# Crear la columna 'sitio' usando la función anterior\n",
        "tuto['Sitio'] = tuto['Lugar'].apply(clasificar_lugar)\n",
        "\n",
        "# Muestra los resultados\n",
        "print(tuto[['Lugar', 'Sitio']])"
      ],
      "metadata": {
        "id": "2IFVCSwmjsMQ"
      },
      "execution_count": null,
      "outputs": []
    },
    {
      "cell_type": "code",
      "source": [
        "# Función para capitalizar palabras y asegurar que solo haya un espacio entre ellas\n",
        "def limpiar_texto(columna):\n",
        "    return columna.str.title().str.split().str.join(' ')\n",
        "\n",
        "# Aplicar la función de limpieza a varias columnas del DataFrame\n",
        "tuto['Facultad'] = limpiar_texto(tuto['Facultad'])\n",
        "tuto['Programa'] = limpiar_texto(tuto['Programa'])\n",
        "tuto['Nombre del curso'] = limpiar_texto(tuto['Nombre del curso'])\n",
        "tuto['Temática'] = limpiar_texto(tuto['Temática'])\n",
        "tuto['Modalidad'] = limpiar_texto(tuto['Modalidad'])\n",
        "tuto['Metodología'] = limpiar_texto(tuto['Metodología'])\n",
        "tuto['Lugar'] = limpiar_texto(tuto['Lugar'])\n",
        "tuto['Nombre del grupo'] = limpiar_texto(tuto['Nombre del grupo'])\n",
        "tuto['Acuerdos y compromisos'] = limpiar_texto(tuto['Acuerdos y compromisos'])\n",
        "tuto['Asistencia'] = limpiar_texto(tuto['Asistencia'])\n",
        "tuto['Comentarios'] = limpiar_texto(tuto['Comentarios'])\n",
        "tuto['Sitio'] = limpiar_texto(tuto['Sitio'])"
      ],
      "metadata": {
        "id": "L3NnM3p6jvzk"
      },
      "execution_count": null,
      "outputs": []
    },
    {
      "cell_type": "code",
      "source": [
        "# Especificar una fecha de reemplazo para los valores nulos\n",
        "fecha_reemplazo = pd.to_datetime(\"01-01-1990 12:00\", format=\"%d-%m-%Y %H:%M\")\n",
        "\n",
        "# Reemplazar valores nulos en las columnas de fecha con la fecha de reemplazo\n",
        "tuto['Fecha de la tutoría'] = tuto['Fecha de la tutoría'].fillna(fecha_reemplazo)\n",
        "tuto['Inicio de la Tutoría'] = tuto['Inicio de la Tutoría'].fillna(fecha_reemplazo)\n",
        "tuto['Final de la Tutoría'] = tuto['Final de la Tutoría'].fillna(fecha_reemplazo)"
      ],
      "metadata": {
        "id": "OH5CJ48fj2RL"
      },
      "execution_count": null,
      "outputs": []
    },
    {
      "cell_type": "code",
      "source": [
        "# Función para convertir fechas en diferentes formatos a un formato estándar ISO 8601\n",
        "def convert_date(date_str):\n",
        "    try:\n",
        "        # Convertir formato '07-Mar-2023 10:00AM'\n",
        "        return pd.to_datetime(date_str, format='%d-%b-%Y %I:%M%p').strftime('%Y-%m-%dT%H:%M:%S.%f')[:-3]\n",
        "    except ValueError:\n",
        "        # Convertir formato ISO 8601\n",
        "        return pd.to_datetime(date_str).strftime('%Y-%m-%dT%H:%M:%S.%f')[:-3]\n",
        "\n",
        "# Aplicar la conversión a la columna 'Fecha de la tutoría'\n",
        "tuto['Fecha de la tutoría'] = tuto['Fecha de la tutoría'].apply(convert_date)\n",
        "tuto['Fecha de la tutoría'] = pd.to_datetime(tuto['Fecha de la tutoría'])\n",
        "\n",
        "# Crear columnas separadas para la fecha y la hora de la tutoría\n",
        "tuto['FechaFechaTutoria'] = tuto['Fecha de la tutoría'].dt.date\n",
        "tuto['HoraFechaTutoria'] = tuto['Fecha de la tutoría'].dt.time\n",
        "\n",
        "# Eliminar la columna original 'Fecha de la tutoría'\n",
        "tuto = tuto.drop(columns=['Fecha de la tutoría'])\n",
        "\n",
        "# Repetir el proceso anterior para 'Inicio de la Tutoría'\n",
        "tuto['Inicio de la Tutoría'] = tuto['Inicio de la Tutoría'].apply(convert_date)\n",
        "tuto['Inicio de la Tutoría'] = pd.to_datetime(tuto['Inicio de la Tutoría'])\n",
        "\n",
        "# Crear columnas separadas para la fecha y la hora de inicio de la tutoría\n",
        "tuto['FechaIFechaTutoria'] = tuto['Inicio de la Tutoría'].dt.date\n",
        "tuto['HoraIFechaTutoria'] = tuto['Inicio de la Tutoría'].dt.time\n",
        "\n",
        "# Eliminar la columna original 'Inicio de la Tutoría'\n",
        "tuto = tuto.drop(columns=['Inicio de la Tutoría'])\n",
        "\n",
        "# Repetir el proceso anterior para 'Final de la Tutoría'\n",
        "tuto['Final de la Tutoría'] = tuto['Final de la Tutoría'].apply(convert_date)\n",
        "tuto['Final de la Tutoría'] = pd.to_datetime(tuto['Final de la Tutoría'])\n",
        "\n",
        "# Crear columnas separadas para la fecha y la hora de finalización de la tutoría\n",
        "tuto['FechaFFechaTutoria'] = tuto['Final de la Tutoría'].dt.date\n",
        "tuto['HoraFFechaTutoria'] = tuto['Final de la Tutoría'].dt.time\n",
        "\n",
        "# Eliminar la columna original 'Final de la Tutoría'\n",
        "tuto = tuto.drop(columns=['Final de la Tutoría'])"
      ],
      "metadata": {
        "id": "jBINEo7Nj4VQ"
      },
      "execution_count": null,
      "outputs": []
    },
    {
      "cell_type": "code",
      "source": [
        "# Reemplazar valores nulos en la columna 'Acuerdos y compromisos' con su valor más común (moda)\n",
        "moda_acuerdos = tuto['Acuerdos y compromisos'].mode()[0]\n",
        "tuto['Acuerdos y compromisos'] = tuto['Acuerdos y compromisos'].fillna(moda_acuerdos)"
      ],
      "metadata": {
        "id": "cai7LQtxj6Ro"
      },
      "execution_count": null,
      "outputs": []
    },
    {
      "cell_type": "code",
      "source": [
        "# Reemplazar valores nulos en la columna 'Comentarios' con su moda\n",
        "moda_comentarios = tuto['Comentarios'].mode()[0]\n",
        "tuto['Comentarios'] = tuto['Comentarios'].fillna(moda_comentarios)"
      ],
      "metadata": {
        "id": "UlClFOZhj6xs"
      },
      "execution_count": null,
      "outputs": []
    },
    {
      "cell_type": "code",
      "source": [
        "# Reemplazar valores nulos en la columna 'Calificación de la tutoría - estudiante' con su moda\n",
        "moda_calificacion = tuto['Calificación de la tutoría - estudiante'].mode()[0]\n",
        "tuto['Calificación de la tutoría - estudiante'] = tuto['Calificación de la tutoría - estudiante'].fillna(moda_calificacion)"
      ],
      "metadata": {
        "id": "-XBRWTizj9Hf"
      },
      "execution_count": null,
      "outputs": []
    },
    {
      "cell_type": "code",
      "source": [
        "# Cambiar varios nombres de columnas a la vez\n",
        "tuto = tuto.rename(columns={\n",
        "    'Numero de sesión por estudiante': 'Sesion_Estudiante',\n",
        "    'Nombre del curso': 'Curso',\n",
        "    'Nombre del grupo': 'Grupo',\n",
        "    'Documento del Profesor de la tutoria3': 'Documento_Profesor',\n",
        "    'Estudiante': 'Documento_Estudiante',\n",
        "    'FechaFechaTutoria': 'Fecha_Tutoria',\n",
        "    'HoraFechaTutoria': 'Hora_tutoria',\n",
        "    'FechaIFechaTutoria': 'Fecha_Inicio_Tutoria',\n",
        "    'HoraFechaTutoria': 'Hora_tutoria',\n",
        "    'HoraIFechaTutoria': 'Hora_Inicio_Tutoria',\n",
        "    'FechaFFechaTutoria': 'Fecha_Fin_Tutoria',\n",
        "    'HoraFFechaTutoria': 'Hora_Fin_Tutoria',\n",
        "    'Calificación de la tutoría - estudiante': 'Calificacion_Tutoria',\n",
        "    'Temática': 'Tematica',\n",
        "    'Modalidad': 'Modalidad',\n",
        "    'Metodología': 'Metodologia',\n",
        "    'Lugar': 'Lugar',\n",
        "    'Sitio': 'Sitio',\n",
        "})"
      ],
      "metadata": {
        "id": "3oz3qw1Zj-yL"
      },
      "execution_count": null,
      "outputs": []
    },
    {
      "cell_type": "code",
      "source": [
        "print(tuto.columns)"
      ],
      "metadata": {
        "id": "h5mO_84qkFig"
      },
      "execution_count": null,
      "outputs": []
    },
    {
      "cell_type": "code",
      "source": [
        "# Lista con el nuevo orden de las columnas\n",
        "nuevo_orden = [\n",
        "    'Fecha_Tutoria', 'Hora_tutoria', 'Fecha_Inicio_Tutoria', 'Hora_Inicio_Tutoria',\n",
        "    'Fecha_Fin_Tutoria', 'Hora_Fin_Tutoria', 'Ciclo', 'Facultad', 'Programa',\n",
        "    'Curso', 'Grupo', 'Tematica', 'Modalidad', 'Metodologia', 'Lugar', 'Sitio',\n",
        "    'Documento_Profesor', 'Sesion_Estudiante', 'Documento_Estudiante', 'Acuerdos y compromisos',\n",
        "    'Asistencia', 'Calificacion_Tutoria', 'Comentarios'\n",
        "]\n",
        "\n",
        "# Reordenar el DataFrame utilizando la lista de columnas\n",
        "tuto = tuto[nuevo_orden]"
      ],
      "metadata": {
        "id": "V4ltcLaDkF9A"
      },
      "execution_count": null,
      "outputs": []
    },
    {
      "cell_type": "code",
      "source": [
        "# Lista de columnas a convertir a valores absolutos\n",
        "columnas_a_convertir = ['Documento_Profesor', 'Documento_Estudiante', 'Sesion_Estudiante', 'Calificacion_Tutoria']\n",
        "\n",
        "# Convertir las columnas a valores absolutos solo si son numéricas\n",
        "tuto[columnas_a_convertir] = tuto[columnas_a_convertir].apply(pd.to_numeric, errors='coerce').abs()"
      ],
      "metadata": {
        "id": "odRU4evgkJwA"
      },
      "execution_count": null,
      "outputs": []
    },
    {
      "cell_type": "code",
      "source": [
        "# Guardar el DataFrame modificado en un nuevo archivo CSV en Google Drive\n",
        "ruta_modificada = \"/content/drive/MyDrive/Colab Notebooks/TESIS/StartTutorialsFinal1.csv\"\n",
        "tuto.to_csv(ruta_modificada, index=False)"
      ],
      "metadata": {
        "id": "4XEFzOC-kL5s"
      },
      "execution_count": null,
      "outputs": []
    }
  ]
}